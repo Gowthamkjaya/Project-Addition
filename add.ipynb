def addition(a, b):
  add = a + b
  return add

addition(10,20)
